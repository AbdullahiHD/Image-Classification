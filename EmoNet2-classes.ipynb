{
  "cells": [
    {
      "cell_type": "markdown",
      "metadata": {},
      "source": [
        "# HUMAN EMOTION DETECTION"
      ]
    },
    {
      "cell_type": "markdown",
      "metadata": {},
      "source": [
        "A two-class face emotion detection classifier employs transfer learning with MobileNet as the base model. This approach leverages a pre-trained MobileNet neural network to extract facial features and fine-tunes the model to distinguish between two specific emotions,happy and sad. It efficiently utilizes the pre-trained MobileNet's knowledge, making it a resource-efficient and accurate solution for emotion recognition in facial images."
      ]
    },
    {
      "cell_type": "markdown",
      "metadata": {},
      "source": [
        "## Model Setup and Evaluation\n",
        "\n",
        "The following Python code sets up the environment and imports necessary libraries for building, training, and evaluating a deep learning model for the human emotion detection. This code includes data preprocessing, model architecture definition, and callbacks for model training.\n",
        "\n",
        "Key libraries used:\n",
        "\n",
        "- **NumPy:** For numerical operations.\n",
        "- **Pandas:** For data manipulation and analysis.\n",
        "- **Matplotlib:** For data visualization.\n",
        "- **scikit-learn (sklearn):** For machine learning metrics and tools, including confusion matrix, accuracy, precision, recall, and F1 score calculations.\n",
        "- **Seaborn:** For enhanced visualization of the confusion matrix.\n",
        "\n",
        "This code serves as the foundational setup for subsequent steps in the deep learning process, including model evaluation and performance analysis.\n"
      ]
    },
    {
      "cell_type": "code",
      "execution_count": 1,
      "metadata": {
        "id": "6dcwbXc8Xzww"
      },
      "outputs": [
        {
          "name": "stdout",
          "output_type": "stream",
          "text": [
            "WARNING:tensorflow:From c:\\Users\\Yoga 6 R5\\AppData\\Local\\Programs\\Python\\Python311\\Lib\\site-packages\\keras\\src\\losses.py:2976: The name tf.losses.sparse_softmax_cross_entropy is deprecated. Please use tf.compat.v1.losses.sparse_softmax_cross_entropy instead.\n",
            "\n"
          ]
        }
      ],
      "source": [
        "# Import necessary libraries and modules\n",
        "\n",
        "import numpy as np  # For numerical operations\n",
        "import pandas as pd  # For data manipulation and analysis\n",
        "import matplotlib.pyplot as plt  # For data visualization\n",
        "import tensorflow as tf  # TensorFlow for deep learning framework\n",
        "import logging  # Logging library for tracking messages and errors\n",
        "import seaborn as sns  # For enhanced data visualization\n",
        "\n",
        "# Import scikit-learn metrics for model evaluation\n",
        "\n",
        "from sklearn.metrics import (\n",
        "    roc_curve,  # ROC curve analysis\n",
        "    auc,  # Area under the ROC curve\n",
        "    confusion_matrix,  # Confusion matrix\n",
        "    accuracy_score,  # Accuracy metric\n",
        "    precision_score,  # Precision metric\n",
        "    recall_score,  # Recall metric\n",
        "    f1_score,  # F1 score metric\n",
        ")\n",
        "\n",
        "# Import Keras modules for deep learning\n",
        "\n",
        "from keras.layers import Flatten, Dense  # Layers for building neural networks\n",
        "from keras.models import Model  # Model class for defining neural network models\n",
        "from keras.preprocessing.image import (\n",
        "    ImageDataGenerator,\n",
        "    img_to_array,\n",
        "    load_img,\n",
        ")  # Image data preprocessing\n",
        "from keras.applications.mobilenet import (\n",
        "    MobileNet,\n",
        "    preprocess_input,\n",
        ")  # MobileNet pre-trained model\n",
        "from keras.losses import categorical_crossentropy  # Loss function for training\n",
        "from keras.callbacks import (\n",
        "    ModelCheckpoint,\n",
        "    EarlyStopping,\n",
        ")  # Callbacks for model training\n",
        "from keras.models import load_model  # Load pre-trained models"
      ]
    },
    {
      "cell_type": "markdown",
      "metadata": {
        "id": "qQRxQ8qNbvE0"
      },
      "source": [
        "## Human Emotion Detection Model Setup\n",
        "\n",
        "In this code section, we are setting up a human emotion detection model using transfer learning with a pre-trained MobileNet base. The goal of this model is to recognize and classify human emotions from input images.\n",
        "\n",
        "**Steps:**\n",
        "\n",
        "1. **Base Model Selection:** We initialize a MobileNet base as the foundation of our model, configuring it for processing images with a size of 224x224 pixels and excluding the top (classification) layers.\n",
        "\n",
        "2. **Freezing Base Model Layers:** To leverage the pre-trained features, we freeze all layers in the base model, preventing them from being updated during training.\n",
        "\n",
        "3. **Flatten and Fully Connected Layer:** We add a Flatten layer to convert the base model's output into a one-dimensional array. Next, a fully connected layer with 2 units (for emotion classification) and softmax activation is introduced.\n",
        "\n",
        "4. **Final Model:** The resulting model is created by connecting the input to the base model and the output to the new fully connected layer.\n",
        "\n",
        "This code initializes the structure of our human emotion detection model, which will be further trained and evaluated in subsequent steps.\n"
      ]
    },
    {
      "cell_type": "code",
      "execution_count": 2,
      "metadata": {
        "colab": {
          "base_uri": "https://localhost:8080/"
        },
        "id": "7HCUQigdYELf",
        "outputId": "626e366c-2800-4311-aaa4-77a63ff6b57c"
      },
      "outputs": [
        {
          "name": "stdout",
          "output_type": "stream",
          "text": [
            "WARNING:tensorflow:From c:\\Users\\Yoga 6 R5\\AppData\\Local\\Programs\\Python\\Python311\\Lib\\site-packages\\keras\\src\\backend.py:1398: The name tf.executing_eagerly_outside_functions is deprecated. Please use tf.compat.v1.executing_eagerly_outside_functions instead.\n",
            "\n",
            "WARNING:tensorflow:From c:\\Users\\Yoga 6 R5\\AppData\\Local\\Programs\\Python\\Python311\\Lib\\site-packages\\keras\\src\\layers\\normalization\\batch_normalization.py:979: The name tf.nn.fused_batch_norm is deprecated. Please use tf.compat.v1.nn.fused_batch_norm instead.\n",
            "\n"
          ]
        }
      ],
      "source": [
        "# Working with pre trained model\n",
        "base_model = MobileNet( input_shape=(224,224,3), include_top= False )\n",
        "\n",
        "# Freezing the layers in the base model\n",
        "for layer in base_model.layers:\n",
        "  layer.trainable = False\n",
        "\n",
        "#  layer flattens the output of the base model to a one-dimensional array\n",
        "x = Flatten()(base_model.output)\n",
        "\n",
        "# Add a fully connected layer with 2 as well using softmax as the activation function\n",
        "x = Dense(units=2 , activation='softmax' )(x)\n",
        "\n",
        "# creating our model.\n",
        "model = Model(base_model.input, x)"
      ]
    },
    {
      "cell_type": "markdown",
      "metadata": {},
      "source": [
        "## Compiling Emotion Detection Model\n",
        "\n",
        "Configuring the model with 'adam' optimizer, categorical cross-entropy loss, and accuracy metric for training preparation."
      ]
    },
    {
      "cell_type": "code",
      "execution_count": 3,
      "metadata": {
        "id": "FN3kEpAeZUGj"
      },
      "outputs": [
        {
          "name": "stdout",
          "output_type": "stream",
          "text": [
            "WARNING:tensorflow:From c:\\Users\\Yoga 6 R5\\AppData\\Local\\Programs\\Python\\Python311\\Lib\\site-packages\\keras\\src\\optimizers\\__init__.py:309: The name tf.train.Optimizer is deprecated. Please use tf.compat.v1.train.Optimizer instead.\n",
            "\n"
          ]
        }
      ],
      "source": [
        "\n",
        "# Compiling the emotion detection model to prepare it for training as well as configuring the optimizer, loss function, and evaluation metrics.\n",
        "model.compile(optimizer=\"adam\", loss=\"categorical_crossentropy\", metrics=[\"accuracy\"])"
      ]
    },
    {
      "cell_type": "markdown",
      "metadata": {
        "id": "z6kh9_hjbs47"
      },
      "source": [
        "## Data Preparation for Training\n",
        "\n",
        "In this section, we specify the classes to load (\"happy\" and \"sad\"), initialize a training data generator with data augmentation options, and load images for training. The data is prepared for the emotion detection model.\n"
      ]
    },
    {
      "cell_type": "code",
      "execution_count": 7,
      "metadata": {
        "colab": {
          "base_uri": "https://localhost:8080/"
        },
        "id": "fpxBuUAlbmh8",
        "outputId": "82402687-0570-428d-af78-bdaad50444d9"
      },
      "outputs": [
        {
          "name": "stdout",
          "output_type": "stream",
          "text": [
            "Found 2000 images belonging to 2 classes.\n"
          ]
        }
      ],
      "source": [
        "# Specifying the classes you want to load\n",
        "selected_classes = [\"happy\", \"sad\"]\n",
        "\n",
        "# Initializing the training data generator with data augmentation options\n",
        "train_datagen = ImageDataGenerator(\n",
        "    zoom_range=0.2, shear_range=0.2, horizontal_flip=True, rescale=1.0 / 255\n",
        ")\n",
        "\n",
        "# Loading images from the specified classes for training\n",
        "train_data = train_datagen.flow_from_directory(\n",
        "    directory=\"dataset/train\",\n",
        "    classes=selected_classes,\n",
        "    target_size=(224, 224),\n",
        "    batch_size=32,\n",
        "    class_mode=\"categorical\",  # 'categorical' for multi-class classification\n",
        ")"
      ]
    },
    {
      "cell_type": "markdown",
      "metadata": {},
      "source": [
        "## Initializing the Training Data"
      ]
    },
    {
      "cell_type": "code",
      "execution_count": 4,
      "metadata": {},
      "outputs": [
        {
          "name": "stdout",
          "output_type": "stream",
          "text": [
            "Found 1700 images belonging to 2 classes.\n"
          ]
        }
      ],
      "source": [
        "train_dir = \"dataset/train\"\n",
        "\n",
        "train_datagen = ImageDataGenerator(\n",
        "    rescale=1.0 / 255, zoom_range=0.2, shear_range=0.2, horizontal_flip=True\n",
        ")\n",
        "\n",
        "selected_classes = [\"happy\", \"sad\"]\n",
        "train_data = train_datagen.flow_from_directory(\n",
        "    train_dir,\n",
        "    classes=selected_classes,\n",
        "    target_size=(224, 224),\n",
        "    batch_size=32,\n",
        "    class_mode=\"categorical\",\n",
        ")"
      ]
    },
    {
      "cell_type": "markdown",
      "metadata": {},
      "source": [
        "## Initializing Validation and Test Data\n",
        "\n",
        "This section initializes the validation data generator and loads images from the specified classes for validation. The data is rescaled and prepared for model evaluation.\n"
      ]
    },
    {
      "cell_type": "code",
      "execution_count": 5,
      "metadata": {
        "colab": {
          "base_uri": "https://localhost:8080/"
        },
        "id": "0x-TwUhocaHn",
        "outputId": "70922d05-e1c1-4eea-9fa9-631bca5dab53"
      },
      "outputs": [
        {
          "name": "stdout",
          "output_type": "stream",
          "text": [
            "Found 300 images belonging to 2 classes.\n",
            "Found 500 images belonging to 2 classes.\n"
          ]
        }
      ],
      "source": [
        "val_dir = \"dataset/validation\"\n",
        "test_dir = \"dataset/test\"\n",
        "\n",
        "val_datagen = ImageDataGenerator(rescale=1.0 / 255)\n",
        "test_datagen = ImageDataGenerator(rescale=1.0 / 255)\n",
        "\n",
        "validation_data = val_datagen.flow_from_directory(\n",
        "    val_dir,\n",
        "    classes=selected_classes,\n",
        "    target_size=(224, 224),\n",
        "    batch_size=32,\n",
        "    class_mode=\"categorical\",\n",
        ")\n",
        "test_data = test_datagen.flow_from_directory(\n",
        "    test_dir,\n",
        "    classes=selected_classes,\n",
        "    target_size=(224, 224),\n",
        "    batch_size=32,\n",
        "    class_mode=\"categorical\",\n",
        "    shuffle=False,\n",
        ")"
      ]
    },
    {
      "cell_type": "markdown",
      "metadata": {
        "id": "WNDgYni5c8Qk"
      },
      "source": [
        "## Visualizing Training Data\n",
        "\n",
        "In this section, we visualize a subset of images from the training data generator. The code defines a function to plot images and demonstrates it with a sample batch of images.\n"
      ]
    },
    {
      "cell_type": "code",
      "execution_count": 23,
      "metadata": {
        "colab": {
          "base_uri": "https://localhost:8080/",
          "height": 1000
        },
        "id": "5tVIpYKDc2a_",
        "outputId": "c76e7b16-1b3b-4afb-c539-6bf14de8d8c5"
      },
      "outputs": [],
      "source": [
        "# # to visualize the images in the training data denerator \n",
        "# t_img , label = train_data.next()\n",
        "\n",
        "# # function when called will plot the images \n",
        "# def plotImages(img_arr, label):\n",
        "#   \"\"\"\n",
        "#   input  :- images array \n",
        "#   output :- plots the images \n",
        "#   \"\"\"\n",
        "#   count = 0\n",
        "#   for im, l in zip(img_arr,label) :\n",
        "#     plt.imshow(im)\n",
        "#     plt.title(im.shape)\n",
        "#     plt.axis = False\n",
        "#     plt.show()\n",
        "    \n",
        "#     count += 1\n",
        "#     if count == 10:\n",
        "#       break\n",
        "\n",
        "# # function call to plot the images \n",
        "# plotImages(t_img, label)"
      ]
    },
    {
      "cell_type": "markdown",
      "metadata": {
        "id": "IhuAjX8KfPa-"
      },
      "source": [
        "## Early Stopping and Model Checkpoint\n",
        "\n",
        "In this section, we configure two important callbacks for model training:\n",
        "\n",
        "### Early Stopping\n",
        "- The `EarlyStopping` callback monitors the validation accuracy (`val_accuracy`) during training.\n",
        "- It halts training if the validation accuracy doesn't improve by at least 0.01 (`min_delta`) for 5 consecutive epochs (`patience`).\n",
        "- This helps prevent overfitting and saves training time.\n",
        "\n",
        "### Model Checkpoint\n",
        "- The `ModelCheckpoint` callback saves the best model weights to a file (`best_model.h5`) during training.\n",
        "- It monitors the validation accuracy (`val_accuracy`) and saves only when accuracy improves.\n",
        "- This ensures that we have the best model saved for later use.\n",
        "\n",
        "Both callbacks are essential for efficient and effective model training and management.\n"
      ]
    },
    {
      "cell_type": "code",
      "execution_count": 6,
      "metadata": {
        "id": "_XtYmjt5dZ2c"
      },
      "outputs": [],
      "source": [
        "# Callbacks\n",
        "es = EarlyStopping(\n",
        "    monitor=\"val_accuracy\", min_delta=0.01, patience=5, verbose=1, mode=\"auto\"\n",
        ")\n",
        "mc = ModelCheckpoint(\n",
        "    filepath=\"best_model.h5\",\n",
        "    monitor=\"val_accuracy\",\n",
        "    verbose=1,\n",
        "    save_best_only=True,\n",
        "    mode=\"auto\",\n",
        ")\n",
        "\n",
        "# putting callbacks in a list\n",
        "\n",
        "# callbacks = [es, mc]"
      ]
    },
    {
      "cell_type": "markdown",
      "metadata": {},
      "source": []
    },
    {
      "cell_type": "code",
      "execution_count": 7,
      "metadata": {
        "colab": {
          "base_uri": "https://localhost:8080/"
        },
        "id": "4GxQ9-qSfT3K",
        "outputId": "05e315e5-8f3b-481f-b024-5cbfa5f624ef"
      },
      "outputs": [
        {
          "name": "stdout",
          "output_type": "stream",
          "text": [
            "Epoch 1/30\n",
            "WARNING:tensorflow:From c:\\Users\\Yoga 6 R5\\AppData\\Local\\Programs\\Python\\Python311\\Lib\\site-packages\\keras\\src\\utils\\tf_utils.py:492: The name tf.ragged.RaggedTensorValue is deprecated. Please use tf.compat.v1.ragged.RaggedTensorValue instead.\n",
            "\n",
            "WARNING:tensorflow:From c:\\Users\\Yoga 6 R5\\AppData\\Local\\Programs\\Python\\Python311\\Lib\\site-packages\\keras\\src\\engine\\base_layer_utils.py:384: The name tf.executing_eagerly_outside_functions is deprecated. Please use tf.compat.v1.executing_eagerly_outside_functions instead.\n",
            "\n",
            "54/54 [==============================] - ETA: 0s - loss: 2.2662 - accuracy: 0.7253\n",
            "Epoch 1: val_accuracy improved from -inf to 0.75333, saving model to best_model.h5\n"
          ]
        },
        {
          "name": "stderr",
          "output_type": "stream",
          "text": [
            "c:\\Users\\Yoga 6 R5\\AppData\\Local\\Programs\\Python\\Python311\\Lib\\site-packages\\keras\\src\\engine\\training.py:3103: UserWarning: You are saving your model as an HDF5 file via `model.save()`. This file format is considered legacy. We recommend using instead the native Keras format, e.g. `model.save('my_model.keras')`.\n",
            "  saving_api.save_model(\n"
          ]
        },
        {
          "name": "stdout",
          "output_type": "stream",
          "text": [
            "54/54 [==============================] - 49s 837ms/step - loss: 2.2662 - accuracy: 0.7253 - val_loss: 1.7380 - val_accuracy: 0.7533\n",
            "Epoch 2/30\n",
            "54/54 [==============================] - ETA: 0s - loss: 1.2564 - accuracy: 0.8176\n",
            "Epoch 2: val_accuracy improved from 0.75333 to 0.83000, saving model to best_model.h5\n",
            "54/54 [==============================] - 42s 779ms/step - loss: 1.2564 - accuracy: 0.8176 - val_loss: 1.4350 - val_accuracy: 0.8300\n",
            "Epoch 3/30\n",
            "54/54 [==============================] - ETA: 0s - loss: 0.9343 - accuracy: 0.8776\n",
            "Epoch 3: val_accuracy did not improve from 0.83000\n",
            "54/54 [==============================] - 44s 816ms/step - loss: 0.9343 - accuracy: 0.8776 - val_loss: 5.1742 - val_accuracy: 0.6433\n",
            "Epoch 4/30\n",
            "54/54 [==============================] - ETA: 0s - loss: 1.2341 - accuracy: 0.8541\n",
            "Epoch 4: val_accuracy improved from 0.83000 to 0.83333, saving model to best_model.h5\n",
            "54/54 [==============================] - 43s 788ms/step - loss: 1.2341 - accuracy: 0.8541 - val_loss: 1.7909 - val_accuracy: 0.8333\n",
            "Epoch 5/30\n",
            "54/54 [==============================] - ETA: 0s - loss: 0.6393 - accuracy: 0.9129\n",
            "Epoch 5: val_accuracy did not improve from 0.83333\n",
            "54/54 [==============================] - 43s 794ms/step - loss: 0.6393 - accuracy: 0.9129 - val_loss: 1.8903 - val_accuracy: 0.8067\n",
            "Epoch 6/30\n",
            "54/54 [==============================] - ETA: 0s - loss: 0.6565 - accuracy: 0.9206\n",
            "Epoch 6: val_accuracy did not improve from 0.83333\n",
            "54/54 [==============================] - 43s 790ms/step - loss: 0.6565 - accuracy: 0.9206 - val_loss: 2.1026 - val_accuracy: 0.8167\n",
            "Epoch 7/30\n",
            "54/54 [==============================] - ETA: 0s - loss: 0.5347 - accuracy: 0.9253\n",
            "Epoch 7: val_accuracy did not improve from 0.83333\n",
            "54/54 [==============================] - 44s 807ms/step - loss: 0.5347 - accuracy: 0.9253 - val_loss: 2.0634 - val_accuracy: 0.8100\n",
            "Epoch 7: early stopping\n"
          ]
        }
      ],
      "source": [
        "# Starting Model Training\n",
        "EmoNet = model.fit(\n",
        "    train_data,  # The training data generator containing augmented images.\n",
        "    steps_per_epoch=len( train_data),  # Specifies the number of training steps per epoch\n",
        "    epochs=30,  # Defines the total number of training epochs, set to 30\n",
        "    validation_data=validation_data,  # Utilizes the validation data generator for evaluating the model during training.\n",
        "    validation_steps=len(\n",
        "        validation_data\n",
        "    ),  # Determines the number of validation steps per epoch, set to 8.\n",
        "    callbacks=[\n",
        "        es,\n",
        "        mc,\n",
        "    ],  # Includes the Early Stopping (`es`) and Model Checkpoint (`mc`) callbacks for better control and monitoring.\n",
        ")"
      ]
    },
    {
      "cell_type": "markdown",
      "metadata": {},
      "source": [
        "## Load and Evaluate the Model\n",
        "\n",
        "This section of the notebook focuses on loading the best-performing model and evaluating its performance. The model, saved during the training process, is loaded from a file. After loading, we retrieve the training history to analyze metrics such as accuracy and loss."
      ]
    },
    {
      "cell_type": "code",
      "execution_count": 8,
      "metadata": {
        "id": "V6YSss56fWrD"
      },
      "outputs": [],
      "source": [
        "# Loading the best model\n",
        "model = load_model(\"best_model.h5\")"
      ]
    },
    {
      "cell_type": "markdown",
      "metadata": {},
      "source": [
        "## ROC Curve Evaluation\n",
        "\n",
        "This section is dedicated to evaluating the model's performance using the Receiver Operating Characteristic (ROC) curve. The ROC curve is a plot of the True Positive Rate (TPR) against the False Positive Rate (FPR) at various threshold settings, providing insights into the balance between true positive and false positive rates. The Area Under the Curve (AUC) is also calculated, giving a single measure of the model's performance across all thresholds."
      ]
    },
    {
      "cell_type": "code",
      "execution_count": 9,
      "metadata": {},
      "outputs": [
        {
          "name": "stdout",
          "output_type": "stream",
          "text": [
            "16/16 [==============================] - 7s 390ms/step\n"
          ]
        },
        {
          "data": {
            "image/png": "[encoded data removed]",
            "text/plain": [
              "<Figure size 640x480 with 1 Axes>"
            ]
          },
          "metadata": {},
          "output_type": "display_data"
        }
      ],
      "source": [
        "# Evaluate the model on test data\n",
        "Y_pred = model.predict(test_data)\n",
        "y_pred = np.argmax(Y_pred, axis=1)\n",
        "y_true = test_data.classes\n",
        "\n",
        "# ROC Curve\n",
        "fpr, tpr, _ = roc_curve(y_true, y_pred)\n",
        "roc_auc = auc(fpr, tpr)\n",
        "plt.figure()\n",
        "plt.plot(fpr, tpr, color=\"darkorange\", lw=2, label=\"ROC curve (area = %0.2f)\" % roc_auc)\n",
        "plt.plot([0, 1], [0, 1], color=\"navy\", lw=2, linestyle=\"--\")\n",
        "plt.xlabel(\"False Positive Rate\")\n",
        "plt.ylabel(\"True Positive Rate\")\n",
        "plt.title(\"ROC Curve for Binary Classification using MobileNet\")\n",
        "plt.legend(loc=\"lower right\")\n",
        "plt.show()"
      ]
    },
    {
      "cell_type": "markdown",
      "metadata": {},
      "source": [
        "## Model Prediction on a Single Image\n",
        "\n",
        "In this section, we load the trained model saved as 'best_model.h5' and use it to make a prediction on a single image. The process involves loading the image, preprocessing it to match the input format expected by the model, and then using the model to predict the image's class. The predicted class is then displayed along with the image. This allows us to visually inspect the model's performance on individual examples."
      ]
    },
    {
      "cell_type": "code",
      "execution_count": 11,
      "metadata": {},
      "outputs": [
        {
          "name": "stdout",
          "output_type": "stream",
          "text": [
            "1/1 [==============================] - 1s 917ms/step\n",
            "The image is of happy\n"
          ]
        },
        {
          "data": {
            "image/png": "[encoded data removed]",
            "text/plain": [
              "<Figure size 640x480 with 1 Axes>"
            ]
          },
          "metadata": {},
          "output_type": "display_data"
        }
      ],
      "source": [
        "# Load the model\n",
        "model = load_model(\"best_model.h5\")\n",
        "\n",
        "# Mapping output values from class indices to class labels\n",
        "op = dict(zip(train_data.class_indices.values(), train_data.class_indices.keys()))\n",
        "\n",
        "# Path to a single image for prediction\n",
        "path = \"dataset/test/happy/PrivateTest_834081.jpg\"  # Replace with the path to your image\n",
        "img = load_img(path, target_size=(224, 224))  # Load the image and resize it\n",
        "\n",
        "# Convert the image to a numpy array and scale the pixel values to [0, 1]\n",
        "i = img_to_array(img) / 255\n",
        "input_arr = np.array([i])  # Create a batch of one image\n",
        "\n",
        "# Predict the class of the image\n",
        "pred = np.argmax(model.predict(input_arr), axis=-1)\n",
        "\n",
        "# Output the prediction\n",
        "predicted_class = op[pred[0]]  # Use pred[0] because model.predict returns a batch\n",
        "print(f\"The image is of {predicted_class}\")\n",
        "\n",
        "# Display the image along with the predicted class\n",
        "plt.imshow(input_arr[0])\n",
        "plt.title(f\"Predicted: {predicted_class}\")\n",
        "# plt.axis(\"off\")  # Corrected line to turn off the axis\n",
        "plt.show()"
      ]
    },
    {
      "cell_type": "markdown",
      "metadata": {},
      "source": [
        "## Model Evaluation and Confusion Matrix\n",
        "\n",
        "In this section, we perform model evaluation by calculating various metrics such as accuracy, precision, recall, and F1 score. Additionally, we compute and visualize the confusion matrix to assess the model's performance on emotion detection.\n"
      ]
    },
    {
      "cell_type": "code",
      "execution_count": 14,
      "metadata": {},
      "outputs": [
        {
          "data": {
            "image/png": "[encoded data removed]",
            "text/plain": [
              "<Figure size 640x480 with 2 Axes>"
            ]
          },
          "metadata": {},
          "output_type": "display_data"
        },
        {
          "name": "stdout",
          "output_type": "stream",
          "text": [
            "Accuracy: 0.86\n",
            "Precision: 0.86\n",
            "Recall: 0.86\n",
            "F1 Score: 0.86\n",
            "\n",
            "Classification Report:\n",
            "\n",
            "              precision    recall  f1-score   support\n",
            "\n",
            "       happy       0.85      0.88      0.86       250\n",
            "         sad       0.87      0.85      0.86       250\n",
            "\n",
            "    accuracy                           0.86       500\n",
            "   macro avg       0.86      0.86      0.86       500\n",
            "weighted avg       0.86      0.86      0.86       500\n",
            "\n"
          ]
        }
      ],
      "source": [
        "from sklearn.metrics import classification_report\n",
        "\n",
        "# Confusion Matrix and other metrics\n",
        "cm = confusion_matrix(y_true, y_pred)\n",
        "accuracy = accuracy_score(y_true, y_pred)\n",
        "precision = precision_score(y_true, y_pred, average=\"macro\")\n",
        "recall = recall_score(y_true, y_pred, average=\"macro\")\n",
        "f1 = f1_score(y_true, y_pred, average=\"macro\")\n",
        "sns.heatmap(cm, annot=True, fmt=\"d\", cmap=\"Blues\")\n",
        "plt.title(\"Confusion Matrix\")\n",
        "plt.ylabel(\"Actual Label\")\n",
        "plt.xlabel(\"Predicted Label\")\n",
        "plt.show()\n",
        "print(f\"Accuracy: {accuracy:.2f}\")\n",
        "print(f\"Precision: {precision:.2f}\")\n",
        "print(f\"Recall: {recall:.2f}\")\n",
        "print(f\"F1 Score: {f1:.2f}\")\n",
        "\n",
        "# Detailed classification report\n",
        "print(\"\\nClassification Report:\\n\")\n",
        "print(\n",
        "    classification_report(\n",
        "        y_true, y_pred, target_names=[\"happy\", \"sad\"]\n",
        "    )\n",
        ")"
      ]
    }
  ],
  "metadata": {
    "accelerator": "GPU",
    "colab": {
      "name": "Emotion_Detection.ipynb",
      "provenance": []
    },
    "kernelspec": {
      "display_name": "Python 3",
      "name": "python3"
    },
    "language_info": {
      "codemirror_mode": {
        "name": "ipython",
        "version": 3
      },
      "file_extension": ".py",
      "mimetype": "text/x-python",
      "name": "python",
      "nbconvert_exporter": "python",
      "pygments_lexer": "ipython3",
      "version": "3.11.2"
    }
  },
  "nbformat": 4,
  "nbformat_minor": 0
}
