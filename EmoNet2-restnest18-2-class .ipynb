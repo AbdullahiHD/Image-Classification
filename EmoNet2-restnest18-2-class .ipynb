{
  "cells": [
    {
      "cell_type": "markdown",
      "metadata": {},
      "source": [
        "# HUMAN EMOTION DETECTION"
      ]
    },
    {
      "cell_type": "markdown",
      "metadata": {},
      "source": [
        "A two-class face emotion detection classifier employs transfer learning with MobileNet as the base model. This approach leverages a pre-trained MobileNet neural network to extract facial features and fine-tunes the model to distinguish between two specific emotions,happy and sad. It efficiently utilizes the pre-trained MobileNet's knowledge, making it a resource-efficient and accurate solution for emotion recognition in facial images."
      ]
    },
    {
      "cell_type": "markdown",
      "metadata": {},
      "source": [
        "## Model Setup and Evaluation\n",
        "\n",
        "The following Python code sets up the environment and imports necessary libraries for building, training, and evaluating a deep learning model for the human emotion detection. This code includes data preprocessing, model architecture definition, and callbacks for model training.\n",
        "\n",
        "Key libraries used:\n",
        "\n",
        "- **NumPy:** For numerical operations.\n",
        "- **Pandas:** For data manipulation and analysis.\n",
        "- **Matplotlib:** For data visualization.\n",
        "- **scikit-learn (sklearn):** For machine learning metrics and tools, including confusion matrix, accuracy, precision, recall, and F1 score calculations.\n",
        "- **Seaborn:** For enhanced visualization of the confusion matrix.\n",
        "\n",
        "This code serves as the foundational setup for subsequent steps in the deep learning process, including model evaluation and performance analysis.\n"
      ]
    },
    {
      "cell_type": "code",
      "execution_count": 1,
      "metadata": {
        "id": "6dcwbXc8Xzww"
      },
      "outputs": [
        {
          "name": "stdout",
          "output_type": "stream",
          "text": [
            "WARNING:tensorflow:From C:\\Users\\Munieb AWAD\\AppData\\Roaming\\Python\\Python311\\site-packages\\keras\\src\\losses.py:2976: The name tf.losses.sparse_softmax_cross_entropy is deprecated. Please use tf.compat.v1.losses.sparse_softmax_cross_entropy instead.\n",
            "\n"
          ]
        }
      ],
      "source": [
        "# Import necessary libraries and modules\n",
        "\n",
        "import numpy as np  # For numerical operations\n",
        "import pandas as pd  # For data manipulation and analysis\n",
        "import matplotlib.pyplot as plt  # For data visualization\n",
        "import tensorflow as tf  # TensorFlow for deep learning framework\n",
        "import logging  # Logging library for tracking messages and errors\n",
        "import seaborn as sns  # For enhanced data visualization\n",
        "\n",
        "# Import scikit-learn metrics for model evaluation\n",
        "\n",
        "from sklearn.metrics import (\n",
        "    roc_curve,  # ROC curve analysis\n",
        "    auc,  # Area under the ROC curve\n",
        "    confusion_matrix,  # Confusion matrix\n",
        "    accuracy_score,  # Accuracy metric\n",
        "    precision_score,  # Precision metric\n",
        "    recall_score,  # Recall metric\n",
        "    f1_score,  # F1 score metric\n",
        ")\n",
        "\n",
        "# Import Keras modules for deep learning\n",
        "\n",
        "from keras.layers import Flatten, Dense  # Layers for building neural networks\n",
        "from keras.models import Model  # Model class for defining neural network models\n",
        "from keras.preprocessing.image import (\n",
        "    ImageDataGenerator,\n",
        "    img_to_array,\n",
        "    load_img,\n",
        ")  # Image data preprocessing\n",
        "from keras.applications.resnet50 import ResNet50  # Import the ResNet50 model\n",
        "from keras.losses import categorical_crossentropy  # Loss function for training\n",
        "from keras.callbacks import (\n",
        "    ModelCheckpoint,\n",
        "    EarlyStopping,\n",
        ")  # Callbacks for model training\n",
        "from keras.models import load_model  # Load pre-trained models"
      ]
    },
    {
      "cell_type": "markdown",
      "metadata": {
        "id": "qQRxQ8qNbvE0"
      },
      "source": [
        "## Human Emotion Detection Model Setup\n",
        "\n",
        "In this code section, we are setting up a human emotion detection model using transfer learning with a pre-trained MobileNet base. The goal of this model is to recognize and classify human emotions from input images.\n",
        "\n",
        "**Steps:**\n",
        "\n",
        "1. **Base Model Selection:** We initialize a MobileNet base as the foundation of our model, configuring it for processing images with a size of 224x224 pixels and excluding the top (classification) layers.\n",
        "\n",
        "2. **Freezing Base Model Layers:** To leverage the pre-trained features, we freeze all layers in the base model, preventing them from being updated during training.\n",
        "\n",
        "3. **Flatten and Fully Connected Layer:** We add a Flatten layer to convert the base model's output into a one-dimensional array. Next, a fully connected layer with 2 units (for emotion classification) and softmax activation is introduced.\n",
        "\n",
        "4. **Final Model:** The resulting model is created by connecting the input to the base model and the output to the new fully connected layer.\n",
        "\n",
        "This code initializes the structure of our human emotion detection model, which will be further trained and evaluated in subsequent steps.\n"
      ]
    },
    {
      "cell_type": "code",
      "execution_count": 2,
      "metadata": {
        "colab": {
          "base_uri": "https://localhost:8080/"
        },
        "id": "7HCUQigdYELf",
        "outputId": "626e366c-2800-4311-aaa4-77a63ff6b57c"
      },
      "outputs": [
        {
          "name": "stdout",
          "output_type": "stream",
          "text": [
            "WARNING:tensorflow:From C:\\Users\\Munieb AWAD\\AppData\\Roaming\\Python\\Python311\\site-packages\\keras\\src\\backend.py:1398: The name tf.executing_eagerly_outside_functions is deprecated. Please use tf.compat.v1.executing_eagerly_outside_functions instead.\n",
            "\n",
            "WARNING:tensorflow:From C:\\Users\\Munieb AWAD\\AppData\\Roaming\\Python\\Python311\\site-packages\\keras\\src\\layers\\normalization\\batch_normalization.py:979: The name tf.nn.fused_batch_norm is deprecated. Please use tf.compat.v1.nn.fused_batch_norm instead.\n",
            "\n"
          ]
        }
      ],
      "source": [
        "# Working with pre trained model\n",
        "base_model = ResNet50(input_shape=(224, 224, 3),\n",
        "                      include_top=False, weights='imagenet')\n",
        "\n",
        "# Freeze the layers in the base model\n",
        "for layer in base_model.layers:\n",
        "  layer.trainable = False\n",
        "\n",
        "# Flatten the output of the base model\n",
        "x = Flatten()(base_model.output)\n",
        "\n",
        "# Add a fully connected layer with 4 units and softmax activation\n",
        "x = Dense(units=2, activation='softmax')(x)\n",
        "\n",
        "# Create the new model with ResNet50 base and custom top layers\n",
        "model = Model(inputs=base_model.input, outputs=x)"
      ]
    },
    {
      "cell_type": "markdown",
      "metadata": {},
      "source": [
        "## Compiling Emotion Detection Model\n",
        "\n",
        "Configuring the model with 'adam' optimizer, categorical cross-entropy loss, and accuracy metric for training preparation."
      ]
    },
    {
      "cell_type": "code",
      "execution_count": 3,
      "metadata": {
        "id": "FN3kEpAeZUGj"
      },
      "outputs": [
        {
          "name": "stdout",
          "output_type": "stream",
          "text": [
            "WARNING:tensorflow:From C:\\Users\\Munieb AWAD\\AppData\\Roaming\\Python\\Python311\\site-packages\\keras\\src\\optimizers\\__init__.py:309: The name tf.train.Optimizer is deprecated. Please use tf.compat.v1.train.Optimizer instead.\n",
            "\n"
          ]
        }
      ],
      "source": [
        "# Compile the model with the same settings as before\n",
        "model.compile(optimizer=\"adam\", loss=\"categorical_crossentropy\",\n",
        "              metrics=[\"accuracy\"])"
      ]
    },
    {
      "cell_type": "markdown",
      "metadata": {},
      "source": [
        "## Preparing the Training Data"
      ]
    },
    {
      "cell_type": "code",
      "execution_count": 4,
      "metadata": {},
      "outputs": [
        {
          "name": "stdout",
          "output_type": "stream",
          "text": [
            "Truncation complete. Each class now has a maximum of 1000 files.\n"
          ]
        }
      ],
      "source": [
        "import os\n",
        "import random\n",
        "import shutil\n",
        "\n",
        "# Set your dataset directory\n",
        "base_dir = \"dataset/train\"\n",
        "\n",
        "# The target number of files per class\n",
        "target_file_count = 1000\n",
        "\n",
        "# For each class directory in the train dataset\n",
        "for class_dir in os.listdir(base_dir):\n",
        "    class_path = os.path.join(base_dir, class_dir)\n",
        "\n",
        "    # Check if it's a directory\n",
        "    if os.path.isdir(class_path):\n",
        "        # Get all file names\n",
        "        files = os.listdir(class_path)\n",
        "\n",
        "        # Shuffle the list in place and truncate files to the target count\n",
        "        random.shuffle(files)\n",
        "        files_to_keep = files[:target_file_count]\n",
        "\n",
        "        # Move the files to keep to a temporary directory\n",
        "        temp_dir = os.path.join(base_dir, \"temp_\" + class_dir)\n",
        "        os.makedirs(temp_dir, exist_ok=True)\n",
        "\n",
        "        # Move files to keep into the temporary directory\n",
        "        for f in files_to_keep:\n",
        "            shutil.move(os.path.join(class_path, f), os.path.join(temp_dir, f))\n",
        "\n",
        "        # Remove the original directory\n",
        "        shutil.rmtree(class_path)\n",
        "\n",
        "        # Rename the temporary directory back to the original directory name\n",
        "        os.rename(temp_dir, class_path)\n",
        "\n",
        "print(\"Truncation complete. Each class now has a maximum of 1000 files.\")"
      ]
    },
    {
      "cell_type": "markdown",
      "metadata": {},
      "source": [
        "## Preparing the Validation Data\n"
      ]
    },
    {
      "cell_type": "code",
      "execution_count": 5,
      "metadata": {},
      "outputs": [
        {
          "name": "stdout",
          "output_type": "stream",
          "text": [
            "Files successfully moved to the validation folder.\n"
          ]
        }
      ],
      "source": [
        "import os\n",
        "import shutil\n",
        "import numpy as np\n",
        "\n",
        "# Set the base directory where train and test folders are located\n",
        "base_dir = \"dataset\"\n",
        "\n",
        "# Class labels\n",
        "class_labels = [\n",
        "    \"happy\",\n",
        "    \"sad\",\n",
        "    \"angry\",\n",
        "    \"surprise\",\n",
        "]  # Add or modify according to your dataset\n",
        "\n",
        "# Desired splits: 70% for training, 15% for validation, 15% for testing\n",
        "train_split = 0.70\n",
        "validation_split = 0.15\n",
        "\n",
        "# Create validation directory\n",
        "validation_dir = os.path.join(base_dir, \"validation\")\n",
        "os.makedirs(validation_dir, exist_ok=True)\n",
        "\n",
        "for label in class_labels:\n",
        "    # Create subdirectories for each class label in validation directory\n",
        "    os.makedirs(os.path.join(validation_dir, label), exist_ok=True)\n",
        "\n",
        "    # Source directory (train)\n",
        "    source_dir = os.path.join(base_dir, \"train\", label)\n",
        "\n",
        "    # Get all file names in the source directory\n",
        "    files = os.listdir(source_dir)\n",
        "\n",
        "    # Calculate the number of files for validation\n",
        "    validation_count = int(len(files) * validation_split)\n",
        "\n",
        "    # Randomly pick files for validation\n",
        "    validation_files = np.random.choice(files, validation_count, replace=False)\n",
        "\n",
        "    # Move files to the validation directory\n",
        "    for file_name in validation_files:\n",
        "        shutil.move(\n",
        "            os.path.join(source_dir, file_name),\n",
        "            os.path.join(validation_dir, label, file_name),\n",
        "        )\n",
        "\n",
        "print(\"Files successfully moved to the validation folder.\")"
      ]
    },
    {
      "cell_type": "markdown",
      "metadata": {
        "id": "z6kh9_hjbs47"
      },
      "source": [
        "## Data Preparation for Training\n",
        "\n",
        "In this section, we specify the classes to load (\"happy\" and \"sad\"), initialize a training data generator with data augmentation options, and load images for training. The data is prepared for the emotion detection model.\n"
      ]
    },
    {
      "cell_type": "code",
      "execution_count": 4,
      "metadata": {
        "colab": {
          "base_uri": "https://localhost:8080/"
        },
        "id": "fpxBuUAlbmh8",
        "outputId": "82402687-0570-428d-af78-bdaad50444d9"
      },
      "outputs": [
        {
          "name": "stdout",
          "output_type": "stream",
          "text": [
            "Found 1700 images belonging to 2 classes.\n"
          ]
        }
      ],
      "source": [
        "# Specifying the classes you want to load\n",
        "selected_classes = [\"happy\", \"sad\"]\n",
        "\n",
        "# Initializing the training data generator with data augmentation options\n",
        "train_datagen = ImageDataGenerator(\n",
        "    zoom_range=0.2, shear_range=0.2, horizontal_flip=True, rescale=1.0 / 255\n",
        ")\n",
        "\n",
        "# Loading images from the specified classes for training\n",
        "train_data = train_datagen.flow_from_directory(\n",
        "    directory=\"dataset/train\",\n",
        "    classes=selected_classes,\n",
        "    target_size=(224, 224),\n",
        "    batch_size=32,\n",
        "    class_mode=\"categorical\",  # 'categorical' for multi-class classification\n",
        ")"
      ]
    },
    {
      "cell_type": "markdown",
      "metadata": {},
      "source": [
        "## Initializing the Training Data"
      ]
    },
    {
      "cell_type": "code",
      "execution_count": 5,
      "metadata": {},
      "outputs": [
        {
          "name": "stdout",
          "output_type": "stream",
          "text": [
            "Found 1700 images belonging to 2 classes.\n"
          ]
        }
      ],
      "source": [
        "train_dir = \"dataset/train\"\n",
        "\n",
        "train_datagen = ImageDataGenerator(\n",
        "    rescale=1.0 / 255, zoom_range=0.2, shear_range=0.2, horizontal_flip=True\n",
        ")\n",
        "\n",
        "selected_classes = [\"happy\", \"sad\"]\n",
        "train_data = train_datagen.flow_from_directory(\n",
        "    train_dir,\n",
        "    classes=selected_classes,\n",
        "    target_size=(224, 224),\n",
        "    batch_size=32,\n",
        "    class_mode=\"categorical\",\n",
        ")"
      ]
    },
    {
      "cell_type": "markdown",
      "metadata": {},
      "source": [
        "## Preparing the Test Data"
      ]
    },
    {
      "cell_type": "code",
      "execution_count": 6,
      "metadata": {},
      "outputs": [
        {
          "name": "stdout",
          "output_type": "stream",
          "text": [
            "Test dataset truncation complete.\n"
          ]
        }
      ],
      "source": [
        "import os\n",
        "import random\n",
        "\n",
        "# Set your dataset directory for the test set\n",
        "test_dir = \"dataset/test\"\n",
        "\n",
        "# The target number of files per class for the test set\n",
        "target_test_file_count = 250\n",
        "\n",
        "# For each class directory in the test dataset\n",
        "for class_dir in os.listdir(test_dir):\n",
        "    class_path = os.path.join(test_dir, class_dir)\n",
        "\n",
        "    # Check if it's a directory\n",
        "    if os.path.isdir(class_path):\n",
        "        # Get all file names\n",
        "        files = os.listdir(class_path)\n",
        "\n",
        "        # If there are more than 250 files, we'll truncate the list\n",
        "        if len(files) > target_test_file_count:\n",
        "            # Randomly shuffle the list\n",
        "            random.shuffle(files)\n",
        "\n",
        "            # Select the files to remove\n",
        "            files_to_remove = files[target_test_file_count:]\n",
        "\n",
        "            # Remove the excess files\n",
        "            for f in files_to_remove:\n",
        "                os.remove(os.path.join(class_path, f))\n",
        "\n",
        "print(\"Test dataset truncation complete.\")"
      ]
    },
    {
      "cell_type": "markdown",
      "metadata": {},
      "source": [
        "## Initializing Validation and Test Data\n",
        "\n",
        "This section initializes the validation data generator and loads images from the specified classes for validation. The data is rescaled and prepared for model evaluation.\n"
      ]
    },
    {
      "cell_type": "code",
      "execution_count": 7,
      "metadata": {
        "colab": {
          "base_uri": "https://localhost:8080/"
        },
        "id": "0x-TwUhocaHn",
        "outputId": "70922d05-e1c1-4eea-9fa9-631bca5dab53"
      },
      "outputs": [
        {
          "name": "stdout",
          "output_type": "stream",
          "text": [
            "Found 300 images belonging to 2 classes.\n"
          ]
        },
        {
          "name": "stdout",
          "output_type": "stream",
          "text": [
            "Found 500 images belonging to 2 classes.\n"
          ]
        }
      ],
      "source": [
        "val_dir = \"dataset/validation\"\n",
        "test_dir = \"dataset/test\"\n",
        "\n",
        "val_datagen = ImageDataGenerator(rescale=1.0 / 255)\n",
        "test_datagen = ImageDataGenerator(rescale=1.0 / 255)\n",
        "\n",
        "validation_data = val_datagen.flow_from_directory(\n",
        "    val_dir,\n",
        "    classes=selected_classes,\n",
        "    target_size=(224, 224),\n",
        "    batch_size=32,\n",
        "    class_mode=\"categorical\",\n",
        ")\n",
        "test_data = test_datagen.flow_from_directory(\n",
        "    test_dir,\n",
        "    classes=selected_classes,\n",
        "    target_size=(224, 224),\n",
        "    batch_size=32,\n",
        "    class_mode=\"categorical\",\n",
        "    shuffle=False,\n",
        ")"
      ]
    },
    {
      "cell_type": "markdown",
      "metadata": {
        "id": "WNDgYni5c8Qk"
      },
      "source": [
        "## Visualizing Training Data\n",
        "\n",
        "In this section, we visualize a subset of images from the training data generator. The code defines a function to plot images and demonstrates it with a sample batch of images.\n"
      ]
    },
    {
      "cell_type": "code",
      "execution_count": 10,
      "metadata": {
        "colab": {
          "base_uri": "https://localhost:8080/",
          "height": 1000
        },
        "id": "5tVIpYKDc2a_",
        "outputId": "c76e7b16-1b3b-4afb-c539-6bf14de8d8c5"
      },
      "outputs": [],
      "source": [
        "# # to visualize the images in the training data denerator \n",
        "# t_img , label = train_data.next()\n",
        "\n",
        "# # function when called will plot the images \n",
        "# def plotImages(img_arr, label):\n",
        "#   \"\"\"\n",
        "#   input  :- images array \n",
        "#   output :- plots the images \n",
        "#   \"\"\"\n",
        "#   count = 0\n",
        "#   for im, l in zip(img_arr,label) :\n",
        "#     plt.imshow(im)\n",
        "#     plt.title(im.shape)\n",
        "#     plt.axis = False\n",
        "#     plt.show()\n",
        "    \n",
        "#     count += 1\n",
        "#     if count == 10:\n",
        "#       break\n",
        "\n",
        "# # function call to plot the images \n",
        "# plotImages(t_img, label)"
      ]
    },
    {
      "cell_type": "markdown",
      "metadata": {
        "id": "IhuAjX8KfPa-"
      },
      "source": [
        "## Early Stopping and Model Checkpoint\n",
        "\n",
        "In this section, we configure two important callbacks for model training:\n",
        "\n",
        "### Early Stopping\n",
        "- The `EarlyStopping` callback monitors the validation accuracy (`val_accuracy`) during training.\n",
        "- It halts training if the validation accuracy doesn't improve by at least 0.01 (`min_delta`) for 5 consecutive epochs (`patience`).\n",
        "- This helps prevent overfitting and saves training time.\n",
        "\n",
        "### Model Checkpoint\n",
        "- The `ModelCheckpoint` callback saves the best model weights to a file (`best_model.h5`) during training.\n",
        "- It monitors the validation accuracy (`val_accuracy`) and saves only when accuracy improves.\n",
        "- This ensures that we have the best model saved for later use.\n",
        "\n",
        "Both callbacks are essential for efficient and effective model training and management.\n"
      ]
    },
    {
      "cell_type": "code",
      "execution_count": 8,
      "metadata": {
        "id": "_XtYmjt5dZ2c"
      },
      "outputs": [],
      "source": [
        "# Callbacks\n",
        "es = EarlyStopping(\n",
        "    monitor=\"val_accuracy\", min_delta=0.01, patience=5, verbose=1, mode=\"auto\"\n",
        ")\n",
        "mc = ModelCheckpoint(\n",
        "    filepath=\"best_model.h5\",\n",
        "    monitor=\"val_accuracy\",\n",
        "    verbose=1,\n",
        "    save_best_only=True,\n",
        "    mode=\"auto\",\n",
        ")\n",
        "\n",
        "# putting callbacks in a list\n",
        "\n",
        "# callbacks = [es, mc]"
      ]
    },
    {
      "cell_type": "markdown",
      "metadata": {},
      "source": []
    },
    {
      "cell_type": "code",
      "execution_count": 9,
      "metadata": {
        "colab": {
          "base_uri": "https://localhost:8080/"
        },
        "id": "4GxQ9-qSfT3K",
        "outputId": "05e315e5-8f3b-481f-b024-5cbfa5f624ef"
      },
      "outputs": [
        {
          "name": "stdout",
          "output_type": "stream",
          "text": [
            "Epoch 1/30\n",
            "WARNING:tensorflow:From C:\\Users\\Munieb AWAD\\AppData\\Roaming\\Python\\Python311\\site-packages\\keras\\src\\utils\\tf_utils.py:492: The name tf.ragged.RaggedTensorValue is deprecated. Please use tf.compat.v1.ragged.RaggedTensorValue instead.\n",
            "\n",
            "WARNING:tensorflow:From C:\\Users\\Munieb AWAD\\AppData\\Roaming\\Python\\Python311\\site-packages\\keras\\src\\engine\\base_layer_utils.py:384: The name tf.executing_eagerly_outside_functions is deprecated. Please use tf.compat.v1.executing_eagerly_outside_functions instead.\n",
            "\n",
            "54/54 [==============================] - ETA: 0s - loss: 1.6702 - accuracy: 0.5076\n",
            "Epoch 1: val_accuracy improved from -inf to 0.51667, saving model to best_model.h5\n"
          ]
        },
        {
          "name": "stderr",
          "output_type": "stream",
          "text": [
            "C:\\Users\\Munieb AWAD\\AppData\\Roaming\\Python\\Python311\\site-packages\\keras\\src\\engine\\training.py:3103: UserWarning: You are saving your model as an HDF5 file via `model.save()`. This file format is considered legacy. We recommend using instead the native Keras format, e.g. `model.save('my_model.keras')`.\n",
            "  saving_api.save_model(\n"
          ]
        },
        {
          "name": "stdout",
          "output_type": "stream",
          "text": [
            "54/54 [==============================] - 119s 2s/step - loss: 1.6702 - accuracy: 0.5076 - val_loss: 0.7189 - val_accuracy: 0.5167\n",
            "Epoch 2/30\n",
            "54/54 [==============================] - ETA: 0s - loss: 0.8804 - accuracy: 0.5547\n",
            "Epoch 2: val_accuracy did not improve from 0.51667\n",
            "54/54 [==============================] - 108s 2s/step - loss: 0.8804 - accuracy: 0.5547 - val_loss: 0.7859 - val_accuracy: 0.5067\n",
            "Epoch 3/30\n",
            "54/54 [==============================] - ETA: 0s - loss: 0.8657 - accuracy: 0.5382\n",
            "Epoch 3: val_accuracy did not improve from 0.51667\n",
            "54/54 [==============================] - 105s 2s/step - loss: 0.8657 - accuracy: 0.5382 - val_loss: 0.9934 - val_accuracy: 0.5067\n",
            "Epoch 4/30\n",
            "54/54 [==============================] - ETA: 0s - loss: 0.7577 - accuracy: 0.5888\n",
            "Epoch 4: val_accuracy did not improve from 0.51667\n",
            "54/54 [==============================] - 105s 2s/step - loss: 0.7577 - accuracy: 0.5888 - val_loss: 1.4249 - val_accuracy: 0.5000\n",
            "Epoch 5/30\n",
            "54/54 [==============================] - ETA: 0s - loss: 0.7264 - accuracy: 0.6012\n",
            "Epoch 5: val_accuracy improved from 0.51667 to 0.55667, saving model to best_model.h5\n",
            "54/54 [==============================] - 105s 2s/step - loss: 0.7264 - accuracy: 0.6012 - val_loss: 0.7474 - val_accuracy: 0.5567\n",
            "Epoch 6/30\n",
            "54/54 [==============================] - ETA: 0s - loss: 0.8740 - accuracy: 0.5747\n",
            "Epoch 6: val_accuracy did not improve from 0.55667\n",
            "54/54 [==============================] - 105s 2s/step - loss: 0.8740 - accuracy: 0.5747 - val_loss: 0.9995 - val_accuracy: 0.5067\n",
            "Epoch 7/30\n",
            "54/54 [==============================] - ETA: 0s - loss: 1.2216 - accuracy: 0.5724\n",
            "Epoch 7: val_accuracy did not improve from 0.55667\n",
            "54/54 [==============================] - 104s 2s/step - loss: 1.2216 - accuracy: 0.5724 - val_loss: 4.2763 - val_accuracy: 0.5000\n",
            "Epoch 8/30\n",
            "54/54 [==============================] - ETA: 0s - loss: 1.2065 - accuracy: 0.5635\n",
            "Epoch 8: val_accuracy improved from 0.55667 to 0.63667, saving model to best_model.h5\n",
            "54/54 [==============================] - 104s 2s/step - loss: 1.2065 - accuracy: 0.5635 - val_loss: 0.6855 - val_accuracy: 0.6367\n",
            "Epoch 9/30\n",
            "54/54 [==============================] - ETA: 0s - loss: 0.7550 - accuracy: 0.6124\n",
            "Epoch 9: val_accuracy did not improve from 0.63667\n",
            "54/54 [==============================] - 104s 2s/step - loss: 0.7550 - accuracy: 0.6124 - val_loss: 0.7101 - val_accuracy: 0.5867\n",
            "Epoch 10/30\n",
            "54/54 [==============================] - ETA: 0s - loss: 0.7821 - accuracy: 0.6059\n",
            "Epoch 10: val_accuracy did not improve from 0.63667\n",
            "54/54 [==============================] - 104s 2s/step - loss: 0.7821 - accuracy: 0.6059 - val_loss: 0.6938 - val_accuracy: 0.6067\n",
            "Epoch 11/30\n",
            "54/54 [==============================] - ETA: 0s - loss: 0.5939 - accuracy: 0.6747\n",
            "Epoch 11: val_accuracy improved from 0.63667 to 0.71000, saving model to best_model.h5\n",
            "54/54 [==============================] - 105s 2s/step - loss: 0.5939 - accuracy: 0.6747 - val_loss: 0.5777 - val_accuracy: 0.7100\n",
            "Epoch 12/30\n",
            "54/54 [==============================] - ETA: 0s - loss: 0.6212 - accuracy: 0.6735\n",
            "Epoch 12: val_accuracy did not improve from 0.71000\n",
            "54/54 [==============================] - 104s 2s/step - loss: 0.6212 - accuracy: 0.6735 - val_loss: 0.7566 - val_accuracy: 0.5967\n",
            "Epoch 13/30\n",
            "54/54 [==============================] - ETA: 0s - loss: 0.6787 - accuracy: 0.6435\n",
            "Epoch 13: val_accuracy did not improve from 0.71000\n",
            "54/54 [==============================] - 104s 2s/step - loss: 0.6787 - accuracy: 0.6435 - val_loss: 0.5780 - val_accuracy: 0.7000\n",
            "Epoch 14/30\n",
            "54/54 [==============================] - ETA: 0s - loss: 0.6819 - accuracy: 0.6553\n",
            "Epoch 14: val_accuracy did not improve from 0.71000\n",
            "54/54 [==============================] - 104s 2s/step - loss: 0.6819 - accuracy: 0.6553 - val_loss: 0.6405 - val_accuracy: 0.6633\n",
            "Epoch 15/30\n",
            "54/54 [==============================] - ETA: 0s - loss: 0.6416 - accuracy: 0.6535\n",
            "Epoch 15: val_accuracy did not improve from 0.71000\n",
            "54/54 [==============================] - 105s 2s/step - loss: 0.6416 - accuracy: 0.6535 - val_loss: 0.6034 - val_accuracy: 0.6700\n",
            "Epoch 16/30\n",
            "54/54 [==============================] - ETA: 0s - loss: 0.6653 - accuracy: 0.6682\n",
            "Epoch 16: val_accuracy did not improve from 0.71000\n",
            "54/54 [==============================] - 104s 2s/step - loss: 0.6653 - accuracy: 0.6682 - val_loss: 0.6804 - val_accuracy: 0.6433\n",
            "Epoch 16: early stopping\n"
          ]
        }
      ],
      "source": [
        "# Starting Model Training\n",
        "EmoNet = model.fit(\n",
        "    train_data,  # The training data generator containing augmented images.\n",
        "    steps_per_epoch=len( train_data),  # Specifies the number of training steps per epoch, set to 30 in this case.\n",
        "    epochs=30,  # Defines the total number of training epochs, set to 30\n",
        "    validation_data=validation_data,  # Utilizes the validation data generator for evaluating the model during training.\n",
        "    validation_steps=len(\n",
        "        validation_data\n",
        "    ),  # Determines the number of validation steps per epoch, set to 8.\n",
        "    callbacks=[\n",
        "        es,\n",
        "        mc,\n",
        "    ],  # Includes the Early Stopping (`es`) and Model Checkpoint (`mc`) callbacks for better control and monitoring.\n",
        ")"
      ]
    },
    {
      "cell_type": "markdown",
      "metadata": {},
      "source": [
        "## Load and Evaluate the Model\n",
        "\n",
        "This section of the notebook focuses on loading the best-performing model and evaluating its performance. The model, saved during the training process, is loaded from a file. After loading, we retrieve the training history to analyze metrics such as accuracy and loss."
      ]
    },
    {
      "cell_type": "code",
      "execution_count": 10,
      "metadata": {
        "id": "V6YSss56fWrD"
      },
      "outputs": [],
      "source": [
        "# Loading the best model\n",
        "model = load_model(\"best_model.h5\")"
      ]
    },
    {
      "cell_type": "markdown",
      "metadata": {},
      "source": [
        "## ROC Curve Evaluation\n",
        "\n",
        "This section is dedicated to evaluating the model's performance using the Receiver Operating Characteristic (ROC) curve. The ROC curve is a plot of the True Positive Rate (TPR) against the False Positive Rate (FPR) at various threshold settings, providing insights into the balance between true positive and false positive rates. The Area Under the Curve (AUC) is also calculated, giving a single measure of the model's performance across all thresholds."
      ]
    },
    {
      "cell_type": "code",
      "execution_count": 11,
      "metadata": {},
      "outputs": [
        {
          "name": "stdout",
          "output_type": "stream",
          "text": [
            "16/16 [==============================] - 27s 2s/step\n",
            "16/16 [==============================] - 25s 2s/step\n"
          ]
        },
        {
          "ename": "IndexError",
          "evalue": "index 1 is out of bounds for axis 1 with size 1",
          "output_type": "error",
          "traceback": [
            "\u001b[1;31m---------------------------------------------------------------------------\u001b[0m",
            "\u001b[1;31mIndexError\u001b[0m                                Traceback (most recent call last)",
            "\u001b[1;32mc:\\Users\\Munieb AWAD\\Desktop\\AI-image-classfication\\Emotion-detection-main\\EmoNet2-restnest18-2-class - Copy.ipynb Cell 30\u001b[0m line \u001b[0;36m2\n\u001b[0;32m     <a href='vscode-notebook-cell:/c%3A/Users/Munieb%20AWAD/Desktop/AI-image-classfication/Emotion-detection-main/EmoNet2-restnest18-2-class%20-%20Copy.ipynb#X41sZmlsZQ%3D%3D?line=22'>23</a>\u001b[0m roc_auc \u001b[39m=\u001b[39m \u001b[39mdict\u001b[39m()\n\u001b[0;32m     <a href='vscode-notebook-cell:/c%3A/Users/Munieb%20AWAD/Desktop/AI-image-classfication/Emotion-detection-main/EmoNet2-restnest18-2-class%20-%20Copy.ipynb#X41sZmlsZQ%3D%3D?line=23'>24</a>\u001b[0m \u001b[39mfor\u001b[39;00m i \u001b[39min\u001b[39;00m \u001b[39mrange\u001b[39m(\u001b[39mlen\u001b[39m(class_labels)):\n\u001b[1;32m---> <a href='vscode-notebook-cell:/c%3A/Users/Munieb%20AWAD/Desktop/AI-image-classfication/Emotion-detection-main/EmoNet2-restnest18-2-class%20-%20Copy.ipynb#X41sZmlsZQ%3D%3D?line=24'>25</a>\u001b[0m     fpr[i], tpr[i], _ \u001b[39m=\u001b[39m roc_curve(y_true_binary[:, i], Y_pred_probs[:, i])\n\u001b[0;32m     <a href='vscode-notebook-cell:/c%3A/Users/Munieb%20AWAD/Desktop/AI-image-classfication/Emotion-detection-main/EmoNet2-restnest18-2-class%20-%20Copy.ipynb#X41sZmlsZQ%3D%3D?line=25'>26</a>\u001b[0m     roc_auc[i] \u001b[39m=\u001b[39m auc(fpr[i], tpr[i])\n\u001b[0;32m     <a href='vscode-notebook-cell:/c%3A/Users/Munieb%20AWAD/Desktop/AI-image-classfication/Emotion-detection-main/EmoNet2-restnest18-2-class%20-%20Copy.ipynb#X41sZmlsZQ%3D%3D?line=27'>28</a>\u001b[0m \u001b[39m# Plotting each ROC curve\u001b[39;00m\n",
            "\u001b[1;31mIndexError\u001b[0m: index 1 is out of bounds for axis 1 with size 1"
          ]
        }
      ],
      "source": [
        "# Evaluate the model on test data\n",
        "Y_pred = model.predict(test_data)\n",
        "y_pred = np.argmax(Y_pred, axis=1)\n",
        "y_true = test_data.classes\n",
        "\n",
        "from sklearn.preprocessing import label_binarize\n",
        "from sklearn.metrics import roc_curve, auc\n",
        "\n",
        "# Assuming your model is trained for 3 classes: 'happy', 'sad', 'neutral'\n",
        "class_labels = [\"happy\", \"sad\"]  # Adjust as per your classes\n",
        "\n",
        "# Binarize the output classes for ROC calculation\n",
        "y_true_binary = label_binarize(\n",
        "    y_true, classes=[0, 1]\n",
        ")  # Adjust the classes as necessary\n",
        "\n",
        "# Predict probabilities for each class\n",
        "Y_pred_probs = model.predict(test_data)\n",
        "\n",
        "# Compute ROC curve and ROC area for each class\n",
        "fpr = dict()\n",
        "tpr = dict()\n",
        "roc_auc = dict()\n",
        "for i in range(len(class_labels)):\n",
        "    fpr[i], tpr[i], _ = roc_curve(y_true_binary[:, i], Y_pred_probs[:, i])\n",
        "    roc_auc[i] = auc(fpr[i], tpr[i])\n",
        "\n",
        "# Plotting each ROC curve\n",
        "plt.figure()\n",
        "for i in range(len(class_labels)):\n",
        "    plt.plot(\n",
        "        fpr[i],\n",
        "        tpr[i],\n",
        "        lw=2,\n",
        "        label=\"ROC curve of class {0} (area = {1:0.2f})\".format(\n",
        "            class_labels[i], roc_auc[i]\n",
        "        ),\n",
        "    )\n",
        "\n",
        "plt.plot([0, 1], [0, 1], color=\"navy\", lw=2, linestyle=\"--\")\n",
        "plt.xlabel(\"False Positive Rate\")\n",
        "plt.ylabel(\"True Positive Rate\")\n",
        "plt.title(\"ROC Curve for Multi-Class\")\n",
        "plt.legend(loc=\"lower right\")\n",
        "plt.show()"
      ]
    },
    {
      "cell_type": "markdown",
      "metadata": {},
      "source": [
        "## Model Prediction on a Single Image\n",
        "\n",
        "In this section, we load the trained model saved as 'best_model.h5' and use it to make a prediction on a single image. The process involves loading the image, preprocessing it to match the input format expected by the model, and then using the model to predict the image's class. The predicted class is then displayed along with the image. This allows us to visually inspect the model's performance on individual examples."
      ]
    },
    {
      "cell_type": "code",
      "execution_count": 17,
      "metadata": {},
      "outputs": [
        {
          "name": "stdout",
          "output_type": "stream",
          "text": [
            "1/1 [==============================] - 2s 2s/step\n",
            "The image is of happy\n"
          ]
        },
        {
          "data": {
            "image/png": "[encoded data removed]",
            "text/plain": [
              "<Figure size 640x480 with 1 Axes>"
            ]
          },
          "metadata": {},
          "output_type": "display_data"
        }
      ],
      "source": [
        "# Load the model\n",
        "model = load_model(\"best_model.h5\")\n",
        "\n",
        "# Mapping output values from class indices to class labels\n",
        "op = dict(zip(train_data.class_indices.values(), train_data.class_indices.keys()))\n",
        "\n",
        "# Path to a single image for prediction\n",
        "# Replace with the path to your image\n",
        "path = \"dataset/test/sad/PrivateTest_1495838.jpg\"\n",
        "img = load_img(path, target_size=(224, 224))  # Load the image and resize it\n",
        "\n",
        "# Convert the image to a numpy array and scale the pixel values to [0, 1]\n",
        "i = img_to_array(img) / 255\n",
        "input_arr = np.array([i])  # Create a batch of one image\n",
        "\n",
        "# Predict the class of the image\n",
        "pred = np.argmax(model.predict(input_arr), axis=-1)\n",
        "\n",
        "# Output the prediction\n",
        "predicted_class = op[pred[0]]  # Use pred[0] because model.predict returns a batch\n",
        "print(f\"The image is of {predicted_class}\")\n",
        "\n",
        "# Display the image along with the predicted class\n",
        "plt.imshow(input_arr[0])\n",
        "plt.title(f\"Predicted: {predicted_class}\")\n",
        "# plt.axis(\"off\")  # Corrected line to turn off the axis\n",
        "plt.show()"
      ]
    },
    {
      "cell_type": "markdown",
      "metadata": {},
      "source": [
        "## Model Evaluation and Confusion Matrix\n",
        "\n",
        "In this section, we perform model evaluation by calculating various metrics such as accuracy, precision, recall, and F1 score. Additionally, we compute and visualize the confusion matrix to assess the model's performance on emotion detection.\n"
      ]
    },
    {
      "cell_type": "code",
      "execution_count": 12,
      "metadata": {},
      "outputs": [
        {
          "data": {
            "image/png": "[encoded data removed]",
            "text/plain": [
              "<Figure size 800x600 with 2 Axes>"
            ]
          },
          "metadata": {},
          "output_type": "display_data"
        },
        {
          "name": "stdout",
          "output_type": "stream",
          "text": [
            "Accuracy: 0.71\n",
            "Precision: 0.72\n",
            "Recall: 0.71\n",
            "F1 Score: 0.71\n",
            "\n",
            "Classification Report:\n",
            "\n",
            "              precision    recall  f1-score   support\n",
            "\n",
            "       happy       0.68      0.80      0.73       250\n",
            "         sad       0.75      0.63      0.69       250\n",
            "\n",
            "    accuracy                           0.71       500\n",
            "   macro avg       0.72      0.71      0.71       500\n",
            "weighted avg       0.72      0.71      0.71       500\n",
            "\n",
            "Cohen's Kappa Score: 0.42\n",
            "Matthews Correlation Coefficient: 0.43\n"
          ]
        }
      ],
      "source": [
        "from sklearn.metrics import classification_report, cohen_kappa_score, matthews_corrcoef\n",
        "\n",
        "# Compute the confusion matrix\n",
        "\n",
        "cm = confusion_matrix(y_true, y_pred)\n",
        "\n",
        "\n",
        "# Calculate accuracy, precision, recall, and F1 score for multi-class\n",
        "accuracy = accuracy_score(y_true, y_pred)\n",
        "\n",
        "precision = precision_score(y_true, y_pred, average=\"macro\")\n",
        "\n",
        "recall = recall_score(y_true, y_pred, average=\"macro\")\n",
        "\n",
        "f1 = f1_score(y_true, y_pred, average=\"macro\")\n",
        "\n",
        "\n",
        "# Plotting the confusion matrix\n",
        "\n",
        "plt.figure(figsize=(8, 6))\n",
        "\n",
        "sns.heatmap(\n",
        "    cm,\n",
        "\n",
        "    annot=True,\n",
        "    fmt=\"d\",\n",
        "\n",
        "    cmap=\"Blues\",\n",
        "\n",
        "    xticklabels=[\"happy\", \"sad\"],\n",
        "\n",
        "    yticklabels=[\"happy\", \"sad\"],\n",
        ")\n",
        "\n",
        "plt.title(\"Confusion Matrix\")\n",
        "\n",
        "plt.ylabel(\"Actual Label\")\n",
        "\n",
        "plt.xlabel(\"Predicted Label\")\n",
        "\n",
        "plt.show()\n",
        "\n",
        "\n",
        "# Print the evaluation metrics\n",
        "\n",
        "print(f\"Accuracy: {accuracy:.2f}\")\n",
        "\n",
        "print(f\"Precision: {precision:.2f}\")\n",
        "\n",
        "print(f\"Recall: {recall:.2f}\")\n",
        "\n",
        "print(f\"F1 Score: {f1:.2f}\")\n",
        "\n",
        "\n",
        "# Detailed classification report\n",
        "\n",
        "print(\"\\nClassification Report:\\n\")\n",
        "print(\n",
        "    classification_report(\n",
        "\n",
        "        y_true, y_pred, target_names=[\"happy\", \"sad\"] )\n",
        "\n",
        ")\n",
        "\n",
        "# Calculate Cohen's Kappa Score\n",
        "kappa = cohen_kappa_score(y_true, y_pred)\n",
        "print(f\"Cohen's Kappa Score: {kappa:.2f}\")\n",
        "\n",
        "# Calculate Matthews Correlation Coefficient\n",
        "mcc = matthews_corrcoef(y_true, y_pred)\n",
        "print(f\"Matthews Correlation Coefficient: {mcc:.2f}\")"
      ]
    }
  ],
  "metadata": {
    "accelerator": "GPU",
    "colab": {
      "name": "Emotion_Detection.ipynb",
      "provenance": []
    },
    "kernelspec": {
      "display_name": "Python 3",
      "name": "python3"
    },
    "language_info": {
      "codemirror_mode": {
        "name": "ipython",
        "version": 3
      },
      "file_extension": ".py",
      "mimetype": "text/x-python",
      "name": "python",
      "nbconvert_exporter": "python",
      "pygments_lexer": "ipython3",
      "version": "3.11.5"
    }
  },
  "nbformat": 4,
  "nbformat_minor": 0
}
